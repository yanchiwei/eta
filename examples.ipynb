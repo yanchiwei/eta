{
 "cells": [
  {
   "cell_type": "markdown",
   "metadata": {},
   "source": [
    "# Network Setup"
   ]
  },
  {
   "cell_type": "markdown",
   "metadata": {},
   "source": [
    "### Create the Grid Network"
   ]
  },
  {
   "cell_type": "code",
   "execution_count": 5,
   "metadata": {
    "collapsed": false,
    "jupyter": {
     "outputs_hidden": false
    }
   },
   "outputs": [
    {
     "data": {
      "text/plain": [
       "[((0, 0), (1, 0)),\n",
       " ((0, 0), (0, 1)),\n",
       " ((0, 1), (1, 1)),\n",
       " ((0, 1), (0, 2)),\n",
       " ((0, 2), (1, 2)),\n",
       " ((0, 2), (0, 3)),\n",
       " ((0, 3), (1, 3)),\n",
       " ((1, 0), (2, 0)),\n",
       " ((1, 0), (1, 1)),\n",
       " ((1, 1), (2, 1)),\n",
       " ((1, 1), (1, 2)),\n",
       " ((1, 2), (2, 2)),\n",
       " ((1, 2), (1, 3)),\n",
       " ((1, 3), (2, 3)),\n",
       " ((2, 0), (3, 0)),\n",
       " ((2, 0), (2, 1)),\n",
       " ((2, 1), (3, 1)),\n",
       " ((2, 1), (2, 2)),\n",
       " ((2, 2), (3, 2)),\n",
       " ((2, 2), (2, 3)),\n",
       " ((2, 3), (3, 3)),\n",
       " ((3, 0), (3, 1)),\n",
       " ((3, 1), (3, 2)),\n",
       " ((3, 2), (3, 3))]"
      ]
     },
     "execution_count": 5,
     "metadata": {},
     "output_type": "execute_result"
    }
   ],
   "source": [
    "import networkx as nx\n",
    "G = nx.grid_2d_graph(4, 4)\n",
    "\n",
    "# transform the grid to edge-based\n",
    "G_edge = nx.Graph()\n",
    "\n",
    "# create nodes using edges\n",
    "for e in list(G.edges()):\n",
    "    G_edge.add_node(e)\n",
    "\n",
    "for n1 in G_edge.nodes():\n",
    "    for n2 in G_edge.nodes():\n",
    "        if not n1 == n2:\n",
    "            if n1[1] == n2[0]:\n",
    "                G_edge.add_edge(n1, n2)\n",
    "list(G_edge.nodes())"
   ]
  },
  {
   "cell_type": "markdown",
   "metadata": {},
   "source": [
    "### Covariance Matrix"
   ]
  },
  {
   "cell_type": "code",
   "execution_count": 6,
   "metadata": {
    "collapsed": false,
    "jupyter": {
     "outputs_hidden": false
    }
   },
   "outputs": [],
   "source": [
    "import numpy as np\n",
    "from scipy.linalg import expm\n",
    "\n",
    "# generate co-variance matrix from the Laplacian matrix\n",
    "cov = expm(-nx.normalized_laplacian_matrix(G_edge).toarray())"
   ]
  },
  {
   "cell_type": "markdown",
   "metadata": {},
   "source": [
    "### Parameters in Example 2,3"
   ]
  },
  {
   "cell_type": "code",
   "execution_count": 7,
   "metadata": {
    "collapsed": false,
    "jupyter": {
     "outputs_hidden": false
    }
   },
   "outputs": [],
   "source": [
    "mu = 1\n",
    "tau_squared = 0.2"
   ]
  },
  {
   "cell_type": "markdown",
   "metadata": {},
   "source": [
    "### Route Data"
   ]
  },
  {
   "cell_type": "code",
   "execution_count": 8,
   "metadata": {
    "collapsed": false,
    "jupyter": {
     "outputs_hidden": false
    }
   },
   "outputs": [],
   "source": [
    "# historical data\n",
    "hist_route = [\n",
    "                [((1,0), (1,1)), ((1,1),(2,1)), ((2,1),(3,1))],\n",
    "                [((1,1), (1,2)), ((1,2),(2,2)), ((2,2),(3,2))],\n",
    "                [((1,1), (1,2)), ((1,2),(1,3)), ((1,3),(2,3))],\n",
    "                [((1,0), (1,1)), ((1,1),(1,2))],\n",
    "                [((1,0), (1,1)), ((0,1),(1,1))],\n",
    "                [((1,3), (2,3)), ((2,3),(3,3))]\n",
    "             ]\n",
    "hist_route_idx = []\n",
    "for route in hist_route:\n",
    "    route_idx = []\n",
    "    for e in route:\n",
    "        route_idx.append(list(G_edge.nodes()).index(e))\n",
    "    hist_route_idx.append(route_idx)\n",
    "\n",
    "\n",
    "# route to predict\n",
    "route_to_predict = [8, 10]"
   ]
  },
  {
   "cell_type": "markdown",
   "metadata": {},
   "source": [
    "# Example 2: Optimal Estimator"
   ]
  },
  {
   "cell_type": "code",
   "execution_count": 9,
   "metadata": {
    "collapsed": false,
    "jupyter": {
     "outputs_hidden": false
    }
   },
   "outputs": [
    {
     "name": "stdout",
     "output_type": "stream",
     "text": [
      "optimal weights: [ 2.10594179e-01 -3.99067236e-02  1.81394762e-03  2.07325801e-01\n",
      " -3.41917565e-02  1.59055627e-03  2.10021317e-01 -3.98899563e-02\n",
      "  2.32940749e-03  1.57180065e-01  1.55878021e-01  2.00550262e-01\n",
      " -1.04021947e-02 -7.63048957e-04  2.00434654e-04]\n",
      "optimal intercept: 0.9776696879718729\n",
      "optimal risk: 0.17169007079118165\n",
      "expected variance: 0.09710009795107723\n",
      "expected squared bias: 0.07458997284010441\n"
     ]
    }
   ],
   "source": [
    "hist_route_mtx = np.zeros((len(hist_route), len(list(G_edge.nodes()))))\n",
    "for i in range(len(hist_route_idx)):\n",
    "    for s in hist_route_idx[i]:\n",
    "        hist_route_mtx[i,s] = 1\n",
    "\n",
    "M = 0\n",
    "for route in hist_route:\n",
    "    M += len(route)\n",
    "\n",
    "# populate matrix Phi\n",
    "Phi = np.zeros((M,M))\n",
    "init = 0\n",
    "for route_idx in hist_route_idx:\n",
    "    Phi[init:init+len(route_idx), init:init+len(route_idx)] = cov[route_idx,:][:,route_idx]\n",
    "    init += len(route_idx)\n",
    "\n",
    "# populate matrix X\n",
    "U = np.zeros((M,len(G_edge.nodes())))\n",
    "count = 0\n",
    "for route_idx in hist_route_idx:\n",
    "    for e in route_idx:\n",
    "        U[count, e] = 1\n",
    "        count += 1\n",
    "\n",
    "# calculate matrix Q\n",
    "Q = np.matmul(np.matmul(np.transpose(U),np.linalg.inv(Phi)), U) + np.diag((1/tau_squared)*np.ones(len(G_edge.nodes())))\n",
    "\n",
    "# e_y\n",
    "e_y = np.zeros(len(G_edge.nodes()))\n",
    "e_y[route_to_predict] = 1\n",
    "\n",
    "# E_y\n",
    "E_y = np.matmul(np.reshape(e_y, [24,1]), np.transpose(np.reshape(e_y, [24,1])))\n",
    "\n",
    "print('optimal weights:',np.transpose(e_y)@np.linalg.inv(Q)@np.transpose(U)@np.linalg.inv(Phi))\n",
    "print('optimal intercept:', mu/tau_squared * np.transpose(e_y)@np.linalg.inv(Q)@np.ones(len(G_edge.nodes())))\n",
    "\n",
    "# calculate the optimal risk\n",
    "temp = E_y + np.transpose(U)@np.linalg.inv(Phi)@U@np.linalg.inv(Q)@E_y@np.linalg.inv(Q)@np.transpose(U)@np.linalg.inv(Phi)@U - 2*E_y@np.linalg.inv(Q)@np.transpose(U)@np.linalg.inv(Phi)@U\n",
    "optimal_risk = np.trace(np.diag(tau_squared*np.ones(len(G_edge.nodes())))@temp) + np.trace(np.linalg.inv(Phi)@U@np.linalg.inv(Q)@E_y@np.linalg.inv(Q)@np.transpose(U))\n",
    "\n",
    "print('optimal risk:',optimal_risk)\n",
    "\n",
    "variance_optimal_risk =  np.trace(np.linalg.inv(Phi)@U@np.linalg.inv(Q)@E_y@np.linalg.inv(Q)@np.transpose(U))\n",
    "print('expected variance:',variance_optimal_risk)\n",
    "\n",
    "bias_optimal_risk = np.trace(np.diag(tau_squared*np.ones(len(G_edge.nodes())))@temp)\n",
    "print('expected squared bias:',bias_optimal_risk)"
   ]
  },
  {
   "cell_type": "markdown",
   "metadata": {},
   "source": [
    "# Example 3: Segment-, Generalized Segment- and Route-Based Estimators"
   ]
  },
  {
   "cell_type": "code",
   "execution_count": 10,
   "metadata": {
    "collapsed": false,
    "jupyter": {
     "outputs_hidden": false
    }
   },
   "outputs": [
    {
     "name": "stdout",
     "output_type": "stream",
     "text": [
      "optimal weights of segment-based estimator: [0.55986267 0.56193637]\n",
      "risk of the optimal segment-based estimator: 0.17564019103497866 \n",
      "\n",
      "optimal weights of the generalized seg-based estimator: 0.26722920855173377\n",
      "risk of the generalized segment-based estimator: 0.29310831657930647 \n",
      "\n",
      "optimal weights of route-based estimator: 0.37188459376336797\n",
      "risk of the route-based estimator: 0.28843462187098967\n"
     ]
    }
   ],
   "source": [
    "# sample size matrix N_{st}\n",
    "N = np.zeros((len(route_to_predict), len(route_to_predict)))\n",
    "for i in range(len(route_to_predict)):\n",
    "    for j in range(len(route_to_predict)):\n",
    "        N[i,j] = np.sum(hist_route_mtx[:,route_to_predict[i]]*hist_route_mtx[:,route_to_predict[j]],0)\n",
    "\n",
    "# calculate the optimal weights of segment-based estimator\n",
    "A = np.zeros((len(route_to_predict), len(route_to_predict)))\n",
    "for i in range(len(route_to_predict)):\n",
    "    for j in range(len(route_to_predict)):\n",
    "        A[i,j] = cov[route_to_predict[i], route_to_predict[j]]*N[i,j]/(N[i,i]*N[j,j])\n",
    "for i in range(len(route_to_predict)):\n",
    "    A[i,i] += tau_squared\n",
    "b = np.ones(len(route_to_predict))*tau_squared\n",
    "phi_seg = np.linalg.inv(A)@b\n",
    "print('optimal weights of segment-based estimator:',phi_seg)\n",
    "\n",
    "# risk of the optimal segment-based estimator\n",
    "risk_seg = 0\n",
    "for i in range(len(route_to_predict)):\n",
    "    for j in range(len(route_to_predict)):\n",
    "        risk_seg += (N[i,j]/(N[i,i]*N[j,j]))*phi_seg[i]*phi_seg[j]*cov[route_to_predict[i], route_to_predict[j]]\n",
    "for i in range(len(route_to_predict)):\n",
    "    risk_seg += (1-phi_seg[i])**2 * tau_squared\n",
    "print('risk of the optimal segment-based estimator:',risk_seg,\"\\n\")\n",
    "\n",
    "\n",
    "# risk of generalized segment-based estimator\n",
    "total_cov = 0\n",
    "for i in range(len(route_to_predict)):\n",
    "    for j in range(len(route_to_predict)):\n",
    "        total_cov += cov[route_to_predict[i], route_to_predict[j]]\n",
    "phi_g_seg = (len(route_to_predict)*tau_squared)/(len(route_to_predict)*tau_squared + total_cov)\n",
    "print('optimal weights of the generalized seg-based estimator:',phi_g_seg)\n",
    "risk_g_seg = (phi_g_seg**2)*total_cov + ((1 - phi_g_seg)**2)*len(route_to_predict)*tau_squared\n",
    "print('risk of the generalized segment-based estimator:',risk_g_seg,\"\\n\")\n",
    "\n",
    "# risk of optimal route-based estimator\n",
    "temp1 = [8,10]\n",
    "temp2 = [8,2]\n",
    "total_cov = 0\n",
    "for i in temp1:\n",
    "    for j in temp1:\n",
    "        total_cov += cov[i, j]\n",
    "for i in temp2:\n",
    "    for j in temp2:\n",
    "        total_cov += cov[i, j]\n",
    "phi_route = (3*tau_squared)/(2*tau_squared + (1/2)*tau_squared + (1/2)*tau_squared + total_cov/2)\n",
    "print('optimal weights of route-based estimator:',phi_route)\n",
    "risk_route = (phi_route/2)**2 * tau_squared + (1-phi_route/2)**2 * tau_squared + (1-phi_route)**2 * tau_squared + ((phi_route/2)**2 * total_cov)\n",
    "print('risk of the route-based estimator:', risk_route)"
   ]
  },
  {
   "cell_type": "markdown",
   "metadata": {},
   "source": [
    "# Example 4: Negative Covariance"
   ]
  },
  {
   "cell_type": "code",
   "execution_count": 29,
   "metadata": {
    "collapsed": false,
    "jupyter": {
     "outputs_hidden": false
    }
   },
   "outputs": [
    {
     "name": "stdout",
     "output_type": "stream",
     "text": [
      "optimal weights of segment-based estimator: [0.81081081 0.81081081]\n",
      "risk of the optimal segment-based estimator: 0.37837837837837834 \n",
      "\n",
      "optimal weights of route-based estimator: 0.9090909090909091\n",
      "risk of the route-based estimator: 0.18181818181818177\n"
     ]
    }
   ],
   "source": [
    "# new parameters\n",
    "tau_squared = 1\n",
    "cov_neg = np.array([[1,-0.9],[-0.9,1]])\n",
    "\n",
    "# sample size matrix N_{st}\n",
    "N = np.zeros((len(route_to_predict), len(route_to_predict)))\n",
    "for i in range(len(route_to_predict)):\n",
    "    for j in range(len(route_to_predict)):\n",
    "        N[i,j] = np.sum(hist_route_mtx[:,route_to_predict[i]]*hist_route_mtx[:,route_to_predict[j]],0)\n",
    "\n",
    "# calculate optimal weights of segment-based estimator\n",
    "A = np.zeros((len(route_to_predict), len(route_to_predict)))\n",
    "for i in range(len(route_to_predict)):\n",
    "    for j in range(len(route_to_predict)):\n",
    "        A[i,j] = cov_neg[i,j]*N[i,j]/(N[i,i]*N[j,j])\n",
    "for i in range(len(route_to_predict)):\n",
    "    A[i,i] += tau_squared\n",
    "b = np.ones(len(route_to_predict))*tau_squared\n",
    "phi_seg = np.linalg.inv(A)@b\n",
    "print('optimal weights of segment-based estimator:',phi_seg)\n",
    "\n",
    "# risk of the optimal segment-based estimator\n",
    "risk_seg = 0\n",
    "for i in range(len(route_to_predict)):\n",
    "    for j in range(len(route_to_predict)):\n",
    "        risk_seg += (N[i,j]/(N[i,i]*N[j,j]))*phi_seg[i]*phi_seg[j]*cov_neg[i, j]\n",
    "for i in range(len(route_to_predict)):\n",
    "    risk_seg += (1-phi_seg[i])**2 * tau_squared\n",
    "print('risk of the optimal segment-based estimator:',risk_seg,'\\n')\n",
    "\n",
    "\n",
    "# risk of the optimal route-based estimator\n",
    "total_cov = 0\n",
    "for i in range(len(route_to_predict)):\n",
    "    for j in range(len(route_to_predict)):\n",
    "        total_cov += cov_neg[i, j]\n",
    "\n",
    "phi_route = (len(route_to_predict)*tau_squared)/(len(route_to_predict)*tau_squared + total_cov)\n",
    "print('optimal weights of route-based estimator:',phi_route)\n",
    "risk_route = (phi_route**2)*total_cov + ((1 - phi_route)**2)*len(route_to_predict)*tau_squared\n",
    "\n",
    "print('risk of the route-based estimator:', risk_route)"
   ]
  },
  {
   "cell_type": "markdown",
   "metadata": {},
   "source": [
    "# Example 5"
   ]
  },
  {
   "cell_type": "code",
   "execution_count": 11,
   "metadata": {
    "collapsed": false,
    "jupyter": {
     "outputs_hidden": false
    }
   },
   "outputs": [
    {
     "name": "stdout",
     "output_type": "stream",
     "text": [
      "optimal weights of segment-based estimator: [0.86614173 0.09448819 0.09090909]\n",
      "risk of the optimal segment-based estimator: 1.9484609878310664 \n",
      "\n",
      "optimal weights of generalized segment-based estimator: [0.90909091 0.09090909]\n",
      "risk of generalized segment-based estimator: 1.909090909090909\n"
     ]
    }
   ],
   "source": [
    "# new route to predict\n",
    "route_to_predict = [8, 10, 11]\n",
    "cov_new = np.array([[0.1, 1.0, 0],\n",
    "                    [1.0, 10.0, 0],\n",
    "                    [0, 0, 10.0]])\n",
    "tau_squared = 1\n",
    "\n",
    "# sample size\n",
    "N = np.array([[1, 1, 0], [1, 2, 1], [0, 1, 1]])\n",
    "\n",
    "# calculate the optimal weights of segment-based estimator\n",
    "A = np.zeros((len(route_to_predict), len(route_to_predict)))\n",
    "for i in range(len(route_to_predict)):\n",
    "    for j in range(len(route_to_predict)):\n",
    "        A[i,j] = cov_new[i,j] * N[i,j]/(N[i,i] * N[j,j])\n",
    "for i in range(len(route_to_predict)):\n",
    "    A[i,i] += tau_squared\n",
    "b = np.ones(len(route_to_predict))*tau_squared\n",
    "phi_seg = np.linalg.inv(A)@b\n",
    "print('optimal weights of segment-based estimator:',phi_seg)\n",
    "\n",
    "# risk of the optimal segment-based estimator\n",
    "risk_seg = 0\n",
    "for i in range(len(route_to_predict)):\n",
    "    for j in range(len(route_to_predict)):\n",
    "        risk_seg += (N[i,j]/(N[i,i]*N[j,j]))*phi_seg[i]*phi_seg[j]*cov_new[i,j]\n",
    "\n",
    "for i in range(len(route_to_predict)):\n",
    "    risk_seg += (1-phi_seg[i])**2 * tau_squared\n",
    "print('risk of the optimal segment-based estimator:',risk_seg,'\\n')\n",
    "\n",
    "\n",
    "# generalized segment-based estimator\n",
    "A_part = np.zeros((2,2))\n",
    "A_part[0,0] = np.sum(cov_new[0,0])+ tau_squared\n",
    "A_part[1,1] = np.sum(cov_new[1:3,1:3])+ 2 * tau_squared\n",
    "b = np.ones(2)\n",
    "b[0] = tau_squared\n",
    "b[1] = 2*tau_squared\n",
    "phi_g_seg = np.linalg.inv(A_part)@b\n",
    "print('optimal weights of generalized segment-based estimator:',phi_g_seg)\n",
    "\n",
    "\n",
    "risk_g_seg = 0\n",
    "risk_g_seg += phi_g_seg[0] * phi_g_seg[0] * np.sum(cov_new[0,0])\n",
    "risk_g_seg += phi_g_seg[1] * phi_g_seg[1] * np.sum(cov_new[1:3,1:3])\n",
    "\n",
    "risk_g_seg += ((1-phi_g_seg[0])**2) * tau_squared\n",
    "risk_g_seg += ((1-phi_g_seg[1])**2) * 2 * tau_squared\n",
    "print('risk of generalized segment-based estimator:',risk_g_seg)"
   ]
  }
 ],
 "metadata": {
  "kernelspec": {
   "display_name": "Python 3 (ipykernel)",
   "language": "python",
   "name": "python3"
  },
  "language_info": {
   "codemirror_mode": {
    "name": "ipython",
    "version": 3
   },
   "file_extension": ".py",
   "mimetype": "text/x-python",
   "name": "python",
   "nbconvert_exporter": "python",
   "pygments_lexer": "ipython3",
   "version": "3.8.3"
  },
  "vscode": {
   "interpreter": {
    "hash": "864e9aebf55b8e2b1d49e0375114fbb6e84a23d0a22f7ebdc913489c92ac1bc4"
   }
  }
 },
 "nbformat": 4,
 "nbformat_minor": 4
}
